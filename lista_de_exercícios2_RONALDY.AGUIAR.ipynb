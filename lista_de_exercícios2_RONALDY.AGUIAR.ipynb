{
  "nbformat": 4,
  "nbformat_minor": 0,
  "metadata": {
    "colab": {
      "provenance": []
    },
    "kernelspec": {
      "name": "python3",
      "display_name": "Python 3"
    },
    "language_info": {
      "name": "python"
    }
  },
  "cells": [
    {
      "cell_type": "markdown",
      "source": [
        "Richardt Justke\n",
        "\n",
        "Turma ciências da computação\n",
        "\n",
        "![imagem_2025-09-19_192104101.png](data:image/png;base64,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)"
      ],
      "metadata": {
        "id": "8d_nPQGYEEBf"
      }
    },
    {
      "cell_type": "code",
      "source": [
        "# 1. Elabore um programa que solicite ao usuário um número real e ao final imprima na tela se o número informado é maior que 10 (dez)\n",
        "\n",
        "num = float(input(\"\\n[1] Digite um número real: \"))\n",
        "if num > 10:\n",
        "    print(\"O número informado é maior que 10\")\n",
        "else:\n",
        "    print(\"O número informado não é maior que 10\")\n"
      ],
      "metadata": {
        "id": "Bli5KlRcUdX9"
      },
      "execution_count": null,
      "outputs": []
    },
    {
      "cell_type": "code",
      "source": [
        "# 2. Escreva um programa que solicite ao usuário um número real e ao final imprima na tela se num = float(input(\"\\n[2] Digite um número real: \"))\n",
        "if num >= 10:\n",
        "    print(\"O número informado é maior ou igual a 10\")\n",
        "else:\n",
        "    print(\"O número informado é menor que 10\")\n"
      ],
      "metadata": {
        "id": "SJYc_8erUea5"
      },
      "execution_count": null,
      "outputs": []
    },
    {
      "cell_type": "code",
      "source": [
        "# 3. Elabore um algoritmo que solicite ao usuário um número real e ao final imprima na tela se o número informado é maior que dez, se é menor que dez, ou se é igual a dez\n",
        "\n",
        "num = float(input(\"\\n[3] Digite um número real: \"))\n",
        "if num > 10:\n",
        "    print(\"O número é maior que 10\")\n",
        "elif num < 10:\n",
        "    print(\"O número é menor que 10\")\n",
        "else:\n",
        "    print(\"O número é igual a 10\")\n"
      ],
      "metadata": {
        "id": "kElKgANRUjbM"
      },
      "execution_count": null,
      "outputs": []
    },
    {
      "cell_type": "code",
      "source": [
        "# 4. Elabore um algoritmo que solicite ao usuário um número real e ao final imprima na tela se o número informado é positivo, negativo ou nulo (zero)\n",
        "\n",
        "num = float(input(\"\\n[4] Digite um número real: \"))\n",
        "if num > 0:\n",
        "    print(\"O número é positivo\")\n",
        "elif num < 0:\n",
        "    print(\"O número é negativo\")\n",
        "else:\n",
        "    print(\"O número é nulo (zero)\")\n"
      ],
      "metadata": {
        "id": "tBWz1X8dUlfE"
      },
      "execution_count": null,
      "outputs": []
    },
    {
      "cell_type": "code",
      "source": [
        "# 5. Elabore um algoritmo que leia um número inteiro e imprima uma das mensagens: é múltiplo de 3, ou, não é múltiplo de 3\n",
        "\n",
        "num = int(input(\"\\n[5] Digite um número inteiro: \"))\n",
        "if num % 3 == 0:\n",
        "    print(\"É múltiplo de 3\")\n",
        "else:\n",
        "    print(\"Não é múltiplo de 3\")\n"
      ],
      "metadata": {
        "id": "F0duy3TfUnjn"
      },
      "execution_count": null,
      "outputs": []
    },
    {
      "cell_type": "code",
      "source": [
        "# 6. Refazer o exercício anterior, solicitando antes o múltiplo a ser testado\n",
        "num = int(input(\"\\n[6] Digite um número inteiro: \"))\n",
        "multiplo = int(input(\"Digite o número para testar o múltiplo: \"))\n",
        "if num % multiplo == 0:\n",
        "    print(f\"{num} é múltiplo de {multiplo}\")\n",
        "else:\n",
        "    print(f\"{num} não é múltiplo de {multiplo}\")\n"
      ],
      "metadata": {
        "id": "BsTBcFkKUqsL"
      },
      "execution_count": null,
      "outputs": []
    },
    {
      "cell_type": "code",
      "source": [
        "# 7. Desenvolva um algoritmo que classifique um número inteiro fornecido pelo usuário como par ou ímpar\n",
        "\n",
        "num = int(input(\"\\n[7] Digite um número inteiro: \"))\n",
        "if num % 2 == 0:\n",
        "    print(\"O número é par\")\n",
        "else:\n",
        "    print(\"O número é ímpar\")\n"
      ],
      "metadata": {
        "id": "Z55MibSuUpvz"
      },
      "execution_count": null,
      "outputs": []
    },
    {
      "cell_type": "code",
      "source": [
        "# 8. Elabore um algoritmo que leia um número, e se ele for maior do que 20, imprimir a metade desse número, caso contrário, imprimir o dobro do número\n",
        "\n",
        "num = float(input(\"\\n[8] Digite um número: \"))\n",
        "if num > 20:\n",
        "    print(f\"A metade do número é {num / 2}\")\n",
        "else:\n",
        "    print(f\"O dobro do número é {num * 2}\")\n"
      ],
      "metadata": {
        "id": "w5GVA4AjUs4r"
      },
      "execution_count": null,
      "outputs": []
    },
    {
      "cell_type": "code",
      "source": [
        "# 9. Elabore um algoritmo que leia dois números inteiros e realize a adição; caso o resultado seja maior que 10, imprima o quadrado do resultado, caso contrário, imprima a metade dele\n",
        "\n",
        "a = int(input(\"\\n[9] Digite o primeiro número: \"))\n",
        "b = int(input(\"Digite o segundo número: \"))\n",
        "soma = a + b\n",
        "if soma > 10:\n",
        "    print(f\"O quadrado da soma é {soma ** 2}\")\n",
        "else:\n",
        "    print(f\"A metade da soma é {soma / 2}\")\n"
      ],
      "metadata": {
        "id": "rEbJTafcUuSg"
      },
      "execution_count": null,
      "outputs": []
    },
    {
      "cell_type": "code",
      "source": [
        "# 10. O sistema de avaliação de determinada disciplina é composto por três provas. A primeira prova tem peso 2, a segunda tem peso 3 e a terceira tem peso 5. Considerando que a média para aprovação é 6.0, faça um algoritmo para calcular a média final de um aluno desta disciplina e dizer se o aluno foi aprovado ou não\n",
        "\n",
        "n1 = float(input(\"\\n[10] Nota da 1ª prova: \"))\n",
        "n2 = float(input(\"Nota da 2ª prova: \"))\n",
        "n3 = float(input(\"Nota da 3ª prova: \"))\n",
        "media = (n1*2 + n2*3 + n3*5) / 10\n",
        "print(f\"Média final = {media:.2f}\")\n",
        "if media >= 6:\n",
        "    print(\"Aluno aprovado\")\n",
        "else:\n",
        "    print(\"Aluno reprovado\")\n"
      ],
      "metadata": {
        "id": "ln4A0OGzU9EX"
      },
      "execution_count": null,
      "outputs": []
    },
    {
      "cell_type": "code",
      "source": [
        "# 11. Elabore um algoritmo que leia o nome e o peso de duas pessoas e imprima o nome da pessoa mais pesada\n",
        "\n",
        "nome1 = input(\"\\n[11] Nome da primeira pessoa: \")\n",
        "peso1 = float(input(\"Peso da primeira pessoa: \"))\n",
        "nome2 = input(\"Nome da segunda pessoa: \")\n",
        "peso2 = float(input(\"Peso da segunda pessoa: \"))\n",
        "if peso1 > peso2:\n",
        "    print(f\"{nome1} é mais pesado(a)\")\n",
        "elif peso2 > peso1:\n",
        "    print(f\"{nome2} é mais pesado(a)\")\n",
        "else:\n",
        "    print(\"Ambos têm o mesmo peso\")\n"
      ],
      "metadata": {
        "id": "y3aqoJ2NVLE1"
      },
      "execution_count": null,
      "outputs": []
    },
    {
      "cell_type": "code",
      "source": [
        "# 12. Elabore um algoritmo que indique se um número digitado está compreendido entre 20 e 90, ou não\n",
        "\n",
        "num = float(input(\"\\n[12] Digite um número: \"))\n",
        "if 20 <= num <= 90:\n",
        "    print(\"O número está entre 20 e 90\")\n",
        "else:\n",
        "    print(\"O número NÃO está entre 20 e 90\")\n"
      ],
      "metadata": {
        "id": "x4ImfzpwVMqK"
      },
      "execution_count": null,
      "outputs": []
    },
    {
      "cell_type": "code",
      "source": [
        "# 13. Elabore um algoritmo que leia dois números e imprima qual é maior, qual é menor, ou se são iguais\n",
        "\n",
        "a = float(input(\"\\n[13] Digite o primeiro número: \"))\n",
        "b = float(input(\"Digite o segundo número: \"))\n",
        "if a > b:\n",
        "    print(f\"{a} é maior e {b} é menor\")\n",
        "elif b > a:\n",
        "    print(f\"{b} é maior e {a} é menor\")\n",
        "else:\n",
        "    print(\"Os números são iguais\")\n"
      ],
      "metadata": {
        "id": "BTd47NVIVRw-"
      },
      "execution_count": null,
      "outputs": []
    },
    {
      "cell_type": "code",
      "source": [
        "// 14. Escreva um programa em linguagem C que solicite ao usuário a média para aprovação\n",
        "em um curso e em seguida solicite ao usuário o nome, sexo e as 03 notas do aluno e ao\n",
        "final imprima a frase: \"O aluno XXXXX foi aprovado com media YY\" considerando o gênero\n",
        "do(a) aluno(a) e se foi aprovado(a) ou reprovado(a)\n",
        "\n",
        "\n",
        "#include <stdio.h>\n",
        "#include <string.h>\n",
        "\n",
        "int main() {\n",
        "    float media_aprov, n1, n2, n3, media_final;\n",
        "    char nome[50];\n",
        "    char sexo;\n",
        "\n",
        "    // Solicita a média para aprovação\n",
        "    printf(\"Digite a media para aprovacao: \");\n",
        "    scanf(\"%f\", &media_aprov);\n",
        "\n",
        "    // Solicita nome do aluno\n",
        "    printf(\"Digite o nome do aluno: \");\n",
        "    scanf(\" %[^\\n]\", nome);  // lê string com espaços\n",
        "\n",
        "    // Solicita sexo\n",
        "    printf(\"Digite o sexo (M/F): \");\n",
        "    scanf(\" %c\", &sexo);\n",
        "\n",
        "    // Solicita as 3 notas\n",
        "    printf(\"Digite a primeira nota: \");\n",
        "    scanf(\"%f\", &n1);\n",
        "    printf(\"Digite a segunda nota: \");\n",
        "    scanf(\"%f\", &n2);\n",
        "    printf(\"Digite a terceira nota: \");\n",
        "    scanf(\"%f\", &n3);\n",
        "\n",
        "    // Calcula a média\n",
        "    media_final = (n1 + n2 + n3) / 3;\n",
        "\n",
        "    // Verifica aprovação e imprime resultado\n",
        "    if (media_final >= media_aprov) {\n",
        "        if (sexo == 'M' || sexo == 'm') {\n",
        "            printf(\"O aluno %s foi aprovado com media %.2f\\n\", nome, media_final);\n",
        "        } else {\n",
        "            printf(\"A aluna %s foi aprovada com media %.2f\\n\", nome, media_final);\n",
        "        }\n",
        "    } else {\n",
        "        if (sexo == 'M' || sexo == 'm') {\n",
        "            printf(\"O aluno %s foi reprovado com media %.2f\\n\", nome, media_final);\n",
        "        } else {\n",
        "            printf(\"A aluna %s foi reprovada com media %.2f\\n\", nome, media_final);\n",
        "        }\n",
        "    }\n",
        "\n",
        "    return 0;\n",
        "}\n"
      ],
      "metadata": {
        "id": "VlSr_PwkVTZW"
      },
      "execution_count": null,
      "outputs": []
    }
  ]
}