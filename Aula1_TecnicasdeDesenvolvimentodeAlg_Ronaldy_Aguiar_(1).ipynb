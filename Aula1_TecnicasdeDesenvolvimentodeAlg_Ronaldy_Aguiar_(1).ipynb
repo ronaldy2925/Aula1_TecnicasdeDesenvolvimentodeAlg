{
  "nbformat": 4,
  "nbformat_minor": 0,
  "metadata": {
    "colab": {
      "provenance": [],
      "include_colab_link": true
    },
    "kernelspec": {
      "name": "python3",
      "display_name": "Python 3"
    },
    "language_info": {
      "name": "python"
    }
  },
  "cells": [
    {
      "cell_type": "markdown",
      "metadata": {
        "id": "view-in-github",
        "colab_type": "text"
      },
      "source": [
        "<a href=\"https://colab.research.google.com/github/ronaldy2925/Aula1_TecnicasdeDesenvolvimentodeAlg/blob/main/Aula1_TecnicasdeDesenvolvimentodeAlg_Ronaldy_Aguiar_(1).ipynb\" target=\"_parent\"><img src=\"https://colab.research.google.com/assets/colab-badge.svg\" alt=\"Open In Colab\"/></a>"
      ]
    },
    {
      "cell_type": "code",
      "execution_count": null,
      "metadata": {
        "colab": {
          "base_uri": "https://localhost:8080/"
        },
        "id": "MzRTNHWDPbAL",
        "outputId": "a329bf06-1a47-4d00-a3de-2c70255054d3"
      },
      "outputs": [
        {
          "output_type": "stream",
          "name": "stdout",
          "text": [
            "Meu primeiro programa\n"
          ]
        }
      ],
      "source": [
        "''' 1.Escreva um programa que apresente na tela a frase: Meu primeiro programa!!!\n",
        "'''\n",
        "print(\"Meu primeiro programa\")\n"
      ]
    },
    {
      "cell_type": "markdown",
      "source": [
        "Nome: Ronaldy Pereira Aguiar\n",
        "Turma: Ciência da Computação\n",
        "\n",
        "\n",
        "\n",
        "![hfgh.webp](data:image/webp;base64,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)"
      ],
      "metadata": {
        "id": "bzN6vNHtQLHA"
      }
    },
    {
      "cell_type": "code",
      "source": [
        "'''\n",
        "2.Escreva um programa que solicite ao usuário um número inteiro e ao final apresente na tela\n",
        "o número informado pelo usuário do programa\n",
        "\n",
        "'''\n",
        "num= int(input(\"Digite um número:\"))\n",
        "print(num)"
      ],
      "metadata": {
        "colab": {
          "base_uri": "https://localhost:8080/"
        },
        "id": "wQPFvXEFa9t8",
        "outputId": "df084151-f4e1-479f-d2a2-233697d05b77"
      },
      "execution_count": null,
      "outputs": [
        {
          "output_type": "stream",
          "name": "stdout",
          "text": [
            "Digite um número:78\n",
            "78\n"
          ]
        }
      ]
    },
    {
      "cell_type": "code",
      "source": [
        "'''3.Escreva um programa que solicite ao usuário um número inteiro e ao final apresente na tela\n",
        "o número informado da seguinte forma: \"Foi informado o valor: X\"\n",
        "'''\n",
        "num= int(input(\"Digite um número:\"))\n",
        "print(\"Foi informado o valor\",num)\n"
      ],
      "metadata": {
        "colab": {
          "base_uri": "https://localhost:8080/"
        },
        "id": "8cM7Kl45cswE",
        "outputId": "1440dbe2-6208-4722-921f-f163d0b561c0"
      },
      "execution_count": null,
      "outputs": [
        {
          "output_type": "stream",
          "name": "stdout",
          "text": [
            "Digite um número:15\n",
            "Foi informado o valor 15\n"
          ]
        }
      ]
    },
    {
      "cell_type": "code",
      "source": [
        "'''4.Escreva um programa que solicite ao usuário dois números inteiros e ao final apresente na\n",
        "tela os dois números informados da seguinte forma: \"Voce informou os numeros X e Y\"\n",
        "'''\n",
        "num1= int(input(\"Digite o primeiro número:\"))\n",
        "num2= int(input(\"Digite o segundo número\"))\n",
        "print(\"Você informou os números\",num1, \"e\",num2)\n"
      ],
      "metadata": {
        "colab": {
          "base_uri": "https://localhost:8080/"
        },
        "id": "648Kk29WgxI6",
        "outputId": "76717c9f-6ed1-43e4-ae32-c180ba86efc5"
      },
      "execution_count": null,
      "outputs": [
        {
          "output_type": "stream",
          "name": "stdout",
          "text": [
            "Digite o primeiro número:45\n",
            "Digite o segundo número78\n",
            "Você informou os números 45 e 78\n"
          ]
        }
      ]
    },
    {
      "cell_type": "code",
      "source": [
        "'''\n",
        "5.  Escreva um programa que solicite ao usuário um número real e ao final apresente na tela o\n",
        "número informado formatado com duas casas decimais da seguinte forma: \"Voce informou\n",
        "o numero X.YY\"\n",
        "'''\n",
        "\n",
        "num = float(input(\"Digite um número real: \"))\n",
        "print(f\"Você informou o número {num:.2f}\")"
      ],
      "metadata": {
        "colab": {
          "base_uri": "https://localhost:8080/"
        },
        "id": "jnN1jHTQa-6K",
        "outputId": "fb769ed0-1fad-4585-aff3-ff39248a5dc8"
      },
      "execution_count": null,
      "outputs": [
        {
          "output_type": "stream",
          "name": "stdout",
          "text": [
            "Digite um número real: 1548\n",
            "Você informou o número 1548.00\n"
          ]
        }
      ]
    },
    {
      "cell_type": "code",
      "source": [
        "'''\n",
        "6. Escreva um programa que solicite ao usuário a temperatura em graus Celsius e ao final\n",
        "apresente a temperatura correspondente em graus Farenheit. F = Celsius * 1.8 + 32\n",
        "'''\n",
        "\n",
        "celsius = float(input(\"Digite a temperatura em graus Celsius: \"))\n",
        "f = celsius * 1.8 + 32\n",
        "print(f\"A temperatura em Fahrenheit é: {f:.2f}\")"
      ],
      "metadata": {
        "colab": {
          "base_uri": "https://localhost:8080/"
        },
        "id": "ucFe287TbehK",
        "outputId": "3bc8bebe-372d-4abc-a0dd-806219a5fc2f"
      },
      "execution_count": null,
      "outputs": [
        {
          "output_type": "stream",
          "name": "stdout",
          "text": [
            "Digite a temperatura em graus Celsius: 17\n",
            "A temperatura em Fahrenheit é: 62.60\n"
          ]
        }
      ]
    },
    {
      "cell_type": "code",
      "source": [
        "'''\n",
        "7. Escreva um programa que solicite ao usuário um número inteiro e um número real e ao final\n",
        "apresente na tela os dois números informados formatando com duas casas decimais\n",
        "somente o número real da seguinte forma: \"Voce informou os numeros N e X.YY\"\n",
        "'''\n",
        "\n",
        "n1 = int(input(\"Digite um número inteiro: \"))\n",
        "n2 = float(input(\"Digite um número real: \"))\n",
        "print(f\"Você informou os números {n1} e {n2:.2f}\")"
      ],
      "metadata": {
        "id": "2HfbTjjHbqhh"
      },
      "execution_count": null,
      "outputs": []
    },
    {
      "cell_type": "code",
      "source": [
        "'''\n",
        "8. Escreva um programa que solicite ao usuário a primeira letra de seu nome e ao final\n",
        "apresente na tela a letra informada pelo usuário da seguinte forma: \"Voce digitou w\"\n",
        "'''\n",
        "\n",
        "letra = input(\"Digite a primeira letra do seu nome: \")\n",
        "print(f\"Você digitou {letra}\")"
      ],
      "metadata": {
        "id": "n8G16T1xbx4q"
      },
      "execution_count": null,
      "outputs": []
    },
    {
      "cell_type": "code",
      "source": [
        "'''\n",
        "9. Escreva um programa que solicite ao usuário o nome de sua cor preferida e ao final\n",
        "apresente na tela a cor informada pelo usuário da seguinte forma: \"Voce gosta da cor AAA\"\n",
        "'''\n",
        "cor = input(\"Digite o nome de sua cor preferida: \")\n",
        "print(f\"Você gosta da cor {cor}\")\n"
      ],
      "metadata": {
        "id": "pbxqH221b50K"
      },
      "execution_count": null,
      "outputs": []
    },
    {
      "cell_type": "code",
      "source": [
        "'''\n",
        "10. Escreva um programa que solicite ao usuário o nome de uma verdura e uma fruta de sua\n",
        "preferencia e ao final apresente na tela as informações digitadas pelo usuário da seguinte\n",
        "forma: \"Voce gosta de AAAAAAA e BBBBBBB\"\n",
        "'''\n",
        "verdura = input(\"Digite o nome de uma verdura: \")\n",
        "fruta = input(\"Digite o nome de uma fruta: \")\n",
        "print(f\"Você gosta de {verdura} e {fruta}\")"
      ],
      "metadata": {
        "id": "BLxz8FJ0cG_J"
      },
      "execution_count": null,
      "outputs": []
    },
    {
      "cell_type": "code",
      "source": [
        "'''\n",
        "11. Elabore um algoritmo que solicite ao usuário um número real e ao final imprima na tela o\n",
        "numero informado e na linha de baixo o dobro deste número da seguinte forma:\n",
        "Numero -> X\n",
        "Dobro deste numero -> Y\n",
        "'''\n",
        "\n",
        "num = float(input(\"Digite um número real: \"))\n",
        "print(f\"Número -> {num}\")\n",
        "print(f\"Dobro deste número -> {num * 2}\")"
      ],
      "metadata": {
        "id": "JS50Opgaca95"
      },
      "execution_count": null,
      "outputs": []
    },
    {
      "cell_type": "code",
      "source": [
        "'''\n",
        "12. Reescrever o programa anterior apresentando o quadrado e o cubo do número informado\n",
        "'''\n",
        "num = float(input(\"Digite um número real: \"))\n",
        "print(f\"Número -> {num}\")\n",
        "print(f\"Quadrado deste número -> {num ** 2}\")\n",
        "print(f\"Cubo deste número -> {num ** 3}\")"
      ],
      "metadata": {
        "id": "WeFfjh1VcgsC"
      },
      "execution_count": null,
      "outputs": []
    },
    {
      "cell_type": "code",
      "source": [
        "'''\n",
        "13. Escreva um programa que solicite ao usuário dois números inteiros e ao final apresente\n",
        "na tela a soma dos dois números informados da seguinte forma: \"O numeros N e X\n",
        "somados correspondem a Y\"\n",
        "'''\n",
        "n1 = int(input(\"Digite o primeiro número inteiro: \"))\n",
        "n2 = int(input(\"Digite o segundo número inteiro: \"))\n",
        "print(f\"A soma dos números corresponde a {n1 + n2}\")"
      ],
      "metadata": {
        "id": "YB38kwFxdw0U"
      },
      "execution_count": null,
      "outputs": []
    },
    {
      "cell_type": "code",
      "source": [
        "'''\n",
        "14. Escreva um programa que solicite ao usuário dois números reais e ao final apresente na\n",
        "tela o produto dos dois números informados da seguinte forma: \"O produto dos numeros N\n",
        "e X corresponde a Y\"\n",
        "'''\n",
        "\n",
        "n1 = float(input(\"Digite o primeiro número real: \"))\n",
        "n2 = float(input(\"Digite o segundo número real: \"))\n",
        "print(f\"O produto dos números {n1} e {n2} corresponde a {n1 * n2}\")"
      ],
      "metadata": {
        "id": "NJMaWHqCd3gq"
      },
      "execution_count": null,
      "outputs": []
    },
    {
      "cell_type": "code",
      "source": [
        "'''\n",
        "15. Refazer o programa 14 realizando as quatro operações aritméticas básicas\n",
        "'''\n",
        "n1 = float(input(\"Digite o primeiro número real: \"))\n",
        "n2 = float(input(\"Digite o segundo número real: \"))\n",
        "print(f\"Soma: {n1 + n2}\")\n",
        "print(f\"Subtração: {n1 - n2}\")\n",
        "print(f\"Multiplicação: {n1 * n2}\")\n",
        "if n2 != 0:\n",
        "    print(f\"Divisão: {n1 / n2}\")\n",
        "else:\n",
        "    print(\"Divisão por zero não é permitida\")"
      ],
      "metadata": {
        "id": "r8CBv7ffd-NC"
      },
      "execution_count": null,
      "outputs": []
    },
    {
      "cell_type": "code",
      "source": [
        "'''\n",
        "16. Escreva um programa que solicite o valor fixo do salário de um vendedor, o total vendido\n",
        "no mês e o percentual de comissão do vendedor. Ao final apresentar o salário bruto.\n",
        "'''\n",
        "\n",
        "salario_fixo = float(input(\"Digite o valor fixo do salário do vendedor: \"))\n",
        "total_vendas = float(input(\"Digite o total vendido no mês: \"))\n",
        "percentual_comissao = float(input(\"Digite o percentual de comissão (%): \"))\n",
        "\n",
        "comissao = (percentual_comissao / 100) * total_vendas\n",
        "salario_bruto = salario_fixo + comissao\n",
        "\n",
        "print(f\"O salário bruto do vendedor é: R$ {salario_bruto:.2f}\")"
      ],
      "metadata": {
        "id": "yWs97ULLeFhD",
        "colab": {
          "base_uri": "https://localhost:8080/"
        },
        "outputId": "813b5976-7b30-49c6-9afb-5ee7d51a4e07"
      },
      "execution_count": null,
      "outputs": [
        {
          "output_type": "stream",
          "name": "stdout",
          "text": [
            "Digite o valor fixo do salário do vendedor: 2555\n",
            "Digite o total vendido no mês: 3333\n",
            "Digite o percentual de comissão (%): 10\n",
            "O salário bruto do vendedor é: R$ 2888.30\n"
          ]
        }
      ]
    }
  ]
}